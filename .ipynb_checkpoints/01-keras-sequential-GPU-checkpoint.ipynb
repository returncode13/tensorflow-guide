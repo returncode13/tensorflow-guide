{
 "cells": [
  {
   "cell_type": "code",
   "execution_count": 1,
   "metadata": {},
   "outputs": [
    {
     "name": "stderr",
     "output_type": "stream",
     "text": [
      "C:\\Anaconda\\envs\\py36gpu\\lib\\site-packages\\h5py\\__init__.py:36: FutureWarning: Conversion of the second argument of issubdtype from `float` to `np.floating` is deprecated. In future, it will be treated as `np.float64 == np.dtype(float).type`.\n",
      "  from ._conv import register_converters as _register_converters\n"
     ]
    }
   ],
   "source": [
    "import numpy as np\n",
    "import tensorflow as tf\n",
    "from tensorflow import keras\n",
    "from tensorflow.keras import layers"
   ]
  },
  {
   "cell_type": "code",
   "execution_count": 2,
   "metadata": {},
   "outputs": [],
   "source": [
    "def build_model():\n",
    "    model=tf.keras.Sequential([\n",
    "        layers.Dense(64,activation=\"relu\",input_shape=(32,)),\n",
    "        layers.Dense(64,activation=\"relu\"),\n",
    "        layers.Dense(10)\n",
    "    ])\n",
    "    model.compile(optimizer=tf.keras.optimizers.Adam(0.01),\n",
    "                 loss=tf.keras.losses.CategoricalCrossentropy(from_logits=True),\n",
    "                  metrics=['accuracy']\n",
    "                 )\n",
    "    \n",
    "    return model"
   ]
  },
  {
   "cell_type": "code",
   "execution_count": 3,
   "metadata": {},
   "outputs": [],
   "source": [
    "def create_data():                      #create 1000 training samples. 100 validation samples\n",
    "    #create training data.\n",
    "    X=np.random.random((1000,32))\n",
    "    #generate reference data (label/true data)\n",
    "    Y=np.random.random((1000,10))\n",
    "    print(X.shape,Y.shape)\n",
    "    #generate some validation data\n",
    "    X_val=np.random.random((100,32))\n",
    "    Y_val=np.random.random((100,10))\n",
    "    \n",
    "    print(X_val.shape,Y_val.shape)\n",
    "    return (X,Y,X_val,Y_val)"
   ]
  },
  {
   "cell_type": "code",
   "execution_count": 4,
   "metadata": {},
   "outputs": [
    {
     "name": "stdout",
     "output_type": "stream",
     "text": [
      "(1000, 32) (1000, 10)\n",
      "(100, 32) (100, 10)\n"
     ]
    }
   ],
   "source": [
    "(x_train,y_train,x_val,y_val)=create_data()"
   ]
  },
  {
   "cell_type": "code",
   "execution_count": 5,
   "metadata": {},
   "outputs": [],
   "source": [
    "#use the datasets API\n",
    "train_dataset = tf.data.Dataset.from_tensor_slices((x_train,y_train))\n",
    "train_dataset = train_dataset.batch(32)\n",
    "\n",
    "val_dataset = tf.data.Dataset.from_tensor_slices((x_val,y_val))\n",
    "val_dataset = val_dataset.batch(32)\n"
   ]
  },
  {
   "cell_type": "code",
   "execution_count": 6,
   "metadata": {},
   "outputs": [],
   "source": [
    "model=build_model()"
   ]
  },
  {
   "cell_type": "code",
   "execution_count": 7,
   "metadata": {},
   "outputs": [
    {
     "name": "stdout",
     "output_type": "stream",
     "text": [
      "Train for 32 steps, validate for 4 steps\n",
      "Epoch 1/10\n",
      "32/32 [==============================] - 1s 29ms/step - loss: 42.5778 - accuracy: 0.1070 - val_loss: 86.9096 - val_accuracy: 0.1300\n",
      "Epoch 2/10\n",
      "32/32 [==============================] - 0s 3ms/step - loss: 268.5387 - accuracy: 0.1060 - val_loss: 150.1135 - val_accuracy: 0.1000\n",
      "Epoch 3/10\n",
      "32/32 [==============================] - 0s 3ms/step - loss: 1185.4391 - accuracy: 0.0900 - val_loss: 1664.0055 - val_accuracy: 0.0900\n",
      "Epoch 4/10\n",
      "32/32 [==============================] - 0s 3ms/step - loss: 2504.9110 - accuracy: 0.1130 - val_loss: 4312.1198 - val_accuracy: 0.1000\n",
      "Epoch 5/10\n",
      "32/32 [==============================] - 0s 3ms/step - loss: 5243.6102 - accuracy: 0.0950 - val_loss: 5985.2034 - val_accuracy: 0.1300\n",
      "Epoch 6/10\n",
      "32/32 [==============================] - 0s 3ms/step - loss: 7625.0087 - accuracy: 0.0980 - val_loss: 9488.8040 - val_accuracy: 0.1000\n",
      "Epoch 7/10\n",
      "32/32 [==============================] - 0s 3ms/step - loss: 10099.6164 - accuracy: 0.0950 - val_loss: 12909.2666 - val_accuracy: 0.0600\n",
      "Epoch 8/10\n",
      "32/32 [==============================] - 0s 3ms/step - loss: 19176.4217 - accuracy: 0.0920 - val_loss: 27194.4614 - val_accuracy: 0.0900\n",
      "Epoch 9/10\n",
      "32/32 [==============================] - 0s 3ms/step - loss: 20037.9109 - accuracy: 0.0910 - val_loss: 32807.0884 - val_accuracy: 0.1300\n",
      "Epoch 10/10\n",
      "32/32 [==============================] - 0s 3ms/step - loss: 27720.5237 - accuracy: 0.1120 - val_loss: 26254.1270 - val_accuracy: 0.0900\n"
     ]
    },
    {
     "data": {
      "text/plain": [
       "<tensorflow.python.keras.callbacks.History at 0x1a9f6d24f60>"
      ]
     },
     "execution_count": 7,
     "metadata": {},
     "output_type": "execute_result"
    }
   ],
   "source": [
    "model.fit(train_dataset,epochs=10,validation_data=val_dataset)"
   ]
  },
  {
   "cell_type": "code",
   "execution_count": 8,
   "metadata": {},
   "outputs": [],
   "source": [
    "x_test,y_test=np.random.random((100,32)) , np.random.random((100,10))\n",
    "test_dataset=tf.data.Dataset.from_tensor_slices((x_test,y_test)).batch(32)\n"
   ]
  },
  {
   "cell_type": "code",
   "execution_count": 9,
   "metadata": {},
   "outputs": [
    {
     "name": "stdout",
     "output_type": "stream",
     "text": [
      "4/4 [==============================] - 0s 4ms/step - loss: 25444.4189 - accuracy: 0.1300\n"
     ]
    },
    {
     "data": {
      "text/plain": [
       "[25444.4189453125, 0.13]"
      ]
     },
     "execution_count": 9,
     "metadata": {},
     "output_type": "execute_result"
    }
   ],
   "source": [
    "#evaluate the model\n",
    "model.evaluate(test_dataset)"
   ]
  },
  {
   "cell_type": "code",
   "execution_count": 10,
   "metadata": {},
   "outputs": [
    {
     "name": "stdout",
     "output_type": "stream",
     "text": [
      "(100, 10)\n"
     ]
    }
   ],
   "source": [
    "result=model.predict(x_test,batch_size=32)\n",
    "print(result.shape)"
   ]
  },
  {
   "cell_type": "code",
   "execution_count": null,
   "metadata": {},
   "outputs": [],
   "source": []
  }
 ],
 "metadata": {
  "kernelspec": {
   "display_name": "py36gpu_",
   "language": "python",
   "name": "py36gpu_"
  },
  "language_info": {
   "codemirror_mode": {
    "name": "ipython",
    "version": 3
   },
   "file_extension": ".py",
   "mimetype": "text/x-python",
   "name": "python",
   "nbconvert_exporter": "python",
   "pygments_lexer": "ipython3",
   "version": "3.6.7"
  }
 },
 "nbformat": 4,
 "nbformat_minor": 2
}
