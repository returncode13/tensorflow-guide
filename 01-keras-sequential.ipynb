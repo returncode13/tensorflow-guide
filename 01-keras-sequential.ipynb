{
 "cells": [
  {
   "cell_type": "code",
   "execution_count": 1,
   "metadata": {},
   "outputs": [
    {
     "name": "stderr",
     "output_type": "stream",
     "text": [
      "C:\\Anaconda\\envs\\py36gpu\\lib\\site-packages\\h5py\\__init__.py:36: FutureWarning: Conversion of the second argument of issubdtype from `float` to `np.floating` is deprecated. In future, it will be treated as `np.float64 == np.dtype(float).type`.\n",
      "  from ._conv import register_converters as _register_converters\n"
     ]
    }
   ],
   "source": [
    "import numpy as np\n",
    "import tensorflow as tf\n",
    "from tensorflow import keras\n",
    "from tensorflow.keras import layers"
   ]
  },
  {
   "cell_type": "code",
   "execution_count": 2,
   "metadata": {},
   "outputs": [],
   "source": [
    "def build_model():\n",
    "    model=tf.keras.Sequential([\n",
    "        layers.Dense(64,activation=\"relu\",input_shape=(32,)),\n",
    "        layers.Dense(64,activation=\"relu\"),\n",
    "        layers.Dense(10)\n",
    "    ])\n",
    "    model.compile(optimizer=tf.keras.optimizers.Adam(0.01),\n",
    "                 loss=tf.keras.losses.CategoricalCrossentropy(from_logits=True),\n",
    "                  metrics=['accuracy']\n",
    "                 )\n",
    "    \n",
    "    return model"
   ]
  },
  {
   "cell_type": "code",
   "execution_count": 3,
   "metadata": {},
   "outputs": [],
   "source": [
    "def create_data():                      #create 1000 training samples. 100 validation samples\n",
    "    #create training data.\n",
    "    X=np.random.random((1000,32))\n",
    "    #generate reference data (label/true data)\n",
    "    Y=np.random.random((1000,10))\n",
    "    print(X.shape,Y.shape)\n",
    "    #generate some validation data\n",
    "    X_val=np.random.random((100,32))\n",
    "    Y_val=np.random.random((100,10))\n",
    "    \n",
    "    print(X_val.shape,Y_val.shape)\n",
    "    return (X,Y,X_val,Y_val)"
   ]
  },
  {
   "cell_type": "code",
   "execution_count": 4,
   "metadata": {},
   "outputs": [
    {
     "name": "stdout",
     "output_type": "stream",
     "text": [
      "(1000, 32) (1000, 10)\n",
      "(100, 32) (100, 10)\n"
     ]
    }
   ],
   "source": [
    "(x_train,y_train,x_val,y_val)=create_data()"
   ]
  },
  {
   "cell_type": "code",
   "execution_count": 5,
   "metadata": {},
   "outputs": [],
   "source": [
    "#use the datasets API\n",
    "train_dataset = tf.data.Dataset.from_tensor_slices((x_train,y_train))\n",
    "train_dataset = train_dataset.batch(32)\n",
    "\n",
    "val_dataset = tf.data.Dataset.from_tensor_slices((x_val,y_val))\n",
    "val_dataset = val_dataset.batch(32)\n"
   ]
  },
  {
   "cell_type": "code",
   "execution_count": 6,
   "metadata": {},
   "outputs": [],
   "source": [
    "model=build_model()"
   ]
  },
  {
   "cell_type": "code",
   "execution_count": 7,
   "metadata": {},
   "outputs": [
    {
     "name": "stdout",
     "output_type": "stream",
     "text": [
      "Train for 32 steps, validate for 4 steps\n",
      "Epoch 1/10\n",
      "32/32 [==============================] - 1s 26ms/step - loss: 59.2642 - accuracy: 0.0990 - val_loss: 92.0064 - val_accuracy: 0.0600\n",
      "Epoch 2/10\n",
      "32/32 [==============================] - 0s 3ms/step - loss: 240.8903 - accuracy: 0.1170 - val_loss: 341.2659 - val_accuracy: 0.1000\n",
      "Epoch 3/10\n",
      "32/32 [==============================] - 0s 3ms/step - loss: 1107.9076 - accuracy: 0.1140 - val_loss: 2093.8758 - val_accuracy: 0.1300\n",
      "Epoch 4/10\n",
      "32/32 [==============================] - 0s 3ms/step - loss: 3266.2121 - accuracy: 0.1110 - val_loss: 2029.9669 - val_accuracy: 0.1300\n",
      "Epoch 5/10\n",
      "32/32 [==============================] - 0s 3ms/step - loss: 4679.0482 - accuracy: 0.0900 - val_loss: 3465.5259 - val_accuracy: 0.1200\n",
      "Epoch 6/10\n",
      "32/32 [==============================] - 0s 3ms/step - loss: 9781.5188 - accuracy: 0.0900 - val_loss: 16389.5066 - val_accuracy: 0.1000\n",
      "Epoch 7/10\n",
      "32/32 [==============================] - 0s 3ms/step - loss: 11975.6120 - accuracy: 0.0900 - val_loss: 13509.1021 - val_accuracy: 0.1200\n",
      "Epoch 8/10\n",
      "32/32 [==============================] - 0s 3ms/step - loss: 24181.0355 - accuracy: 0.0890 - val_loss: 28620.7749 - val_accuracy: 0.0800\n",
      "Epoch 9/10\n",
      "32/32 [==============================] - 0s 3ms/step - loss: 28352.5906 - accuracy: 0.1000 - val_loss: 30731.4932 - val_accuracy: 0.0900\n",
      "Epoch 10/10\n",
      "32/32 [==============================] - 0s 3ms/step - loss: 34948.2387 - accuracy: 0.1080 - val_loss: 33395.3281 - val_accuracy: 0.1300\n"
     ]
    },
    {
     "data": {
      "text/plain": [
       "<tensorflow.python.keras.callbacks.History at 0x1d4cd6902b0>"
      ]
     },
     "execution_count": 7,
     "metadata": {},
     "output_type": "execute_result"
    }
   ],
   "source": [
    "model.fit(train_dataset,epochs=10,validation_data=val_dataset)"
   ]
  },
  {
   "cell_type": "code",
   "execution_count": 10,
   "metadata": {},
   "outputs": [],
   "source": [
    "x_test,y_test=np.random.random((100,32)) , np.random.random((100,10))\n",
    "test_dataset=tf.data.Dataset.from_tensor_slices((x_test,y_test)).batch(32)\n"
   ]
  },
  {
   "cell_type": "code",
   "execution_count": 11,
   "metadata": {},
   "outputs": [
    {
     "name": "stdout",
     "output_type": "stream",
     "text": [
      "4/4 [==============================] - 0s 4ms/step - loss: 33038.2749 - accuracy: 0.0600\n"
     ]
    },
    {
     "data": {
      "text/plain": [
       "[33038.27490234375, 0.06]"
      ]
     },
     "execution_count": 11,
     "metadata": {},
     "output_type": "execute_result"
    }
   ],
   "source": [
    "#evaluate the model\n",
    "model.evaluate(test_dataset)"
   ]
  },
  {
   "cell_type": "code",
   "execution_count": 12,
   "metadata": {},
   "outputs": [
    {
     "name": "stdout",
     "output_type": "stream",
     "text": [
      "(100, 10)\n"
     ]
    }
   ],
   "source": [
    "result=model.predict(x_test,batch_size=32)\n",
    "print(result.shape)"
   ]
  },
  {
   "cell_type": "code",
   "execution_count": null,
   "metadata": {},
   "outputs": [],
   "source": []
  }
 ],
 "metadata": {
  "kernelspec": {
   "display_name": "py36gpu_",
   "language": "python",
   "name": "py36gpu_"
  },
  "language_info": {
   "codemirror_mode": {
    "name": "ipython",
    "version": 3
   },
   "file_extension": ".py",
   "mimetype": "text/x-python",
   "name": "python",
   "nbconvert_exporter": "python",
   "pygments_lexer": "ipython3",
   "version": "3.6.7"
  }
 },
 "nbformat": 4,
 "nbformat_minor": 2
}
