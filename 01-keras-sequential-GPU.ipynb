{
 "cells": [
  {
   "cell_type": "code",
   "execution_count": 1,
   "metadata": {},
   "outputs": [
    {
     "name": "stderr",
     "output_type": "stream",
     "text": [
      "C:\\Anaconda\\envs\\py36gpu\\lib\\site-packages\\h5py\\__init__.py:36: FutureWarning: Conversion of the second argument of issubdtype from `float` to `np.floating` is deprecated. In future, it will be treated as `np.float64 == np.dtype(float).type`.\n",
      "  from ._conv import register_converters as _register_converters\n"
     ]
    }
   ],
   "source": [
    "import numpy as np\n",
    "import tensorflow as tf\n",
    "from tensorflow import keras\n",
    "from tensorflow.keras import layers"
   ]
  },
  {
   "cell_type": "code",
   "execution_count": 2,
   "metadata": {},
   "outputs": [
    {
     "name": "stdout",
     "output_type": "stream",
     "text": [
      "[name: \"/device:CPU:0\"\n",
      "device_type: \"CPU\"\n",
      "memory_limit: 268435456\n",
      "locality {\n",
      "}\n",
      "incarnation: 346109123016907044\n",
      ", name: \"/device:GPU:0\"\n",
      "device_type: \"GPU\"\n",
      "memory_limit: 11054556775\n",
      "locality {\n",
      "  bus_id: 1\n",
      "  links {\n",
      "  }\n",
      "}\n",
      "incarnation: 7597009084736639112\n",
      "physical_device_desc: \"device: 0, name: Tesla K80, pci bus id: 0001:00:00.0, compute capability: 3.7\"\n",
      ", name: \"/device:GPU:1\"\n",
      "device_type: \"GPU\"\n",
      "memory_limit: 11054556775\n",
      "locality {\n",
      "  bus_id: 1\n",
      "  links {\n",
      "  }\n",
      "}\n",
      "incarnation: 7665372117181562774\n",
      "physical_device_desc: \"device: 1, name: Tesla K80, pci bus id: 0002:00:00.0, compute capability: 3.7\"\n",
      "]\n"
     ]
    }
   ],
   "source": [
    "from tensorflow.python.client import device_lib\n",
    "print(device_lib.list_local_devices())"
   ]
  },
  {
   "cell_type": "code",
   "execution_count": 3,
   "metadata": {},
   "outputs": [],
   "source": [
    "def set_gpus():\n",
    "    gpus=tf.config.experimental.list_physical_devices('GPU')\n",
    "    if gpus:\n",
    "        try:\n",
    "            for gpu in gpus:\n",
    "                tf.config.experimental.set_memory_growth(gpu,True)\n",
    "            logical_gpus=tf.config.experimental.list_logical_devices('GPU')\n",
    "            print(len(gpus), \" physical GPUs, \",len(logical_gpus),\" Logical GPUs\")\n",
    "        except RuntimeError as e:\n",
    "            print(\"Error: \",e)"
   ]
  },
  {
   "cell_type": "code",
   "execution_count": 4,
   "metadata": {},
   "outputs": [],
   "source": [
    "def build_model():\n",
    "    #strategy=tf.distribute.MirroredStrategy()\n",
    "    #https://github.com/tensorflow/tensorflow/issues/21470#issuecomment-422506263\n",
    "    #cross_tower_ops = tf.distribute.AllReduceCrossDeviceOps(\n",
    "    #'hierarchical_copy', num_packs=num_gpus)\n",
    "    #strategy = tf.distribute.MirroredStrategy(cross_tower_ops=cross_tower_ops)\n",
    "    #with strategy.scope():\n",
    "    \n",
    "    with tf.device('/GPU:0'):\n",
    "        \n",
    "        model=tf.keras.Sequential([\n",
    "            layers.Dense(64,activation=\"relu\",input_shape=(32,)),\n",
    "            layers.Dense(64,activation=\"relu\"),\n",
    "            layers.Dense(10)\n",
    "        ])\n",
    "        model.compile(optimizer=tf.keras.optimizers.SGD(0.01),\n",
    "                     loss=tf.keras.losses.mse,\n",
    "                      metrics=['accuracy']\n",
    "                     )\n",
    "        \n",
    "        return model"
   ]
  },
  {
   "cell_type": "code",
   "execution_count": 5,
   "metadata": {},
   "outputs": [],
   "source": [
    "def create_data():                      #create 1000 training samples. 100 validation samples\n",
    "    #create training data.\n",
    "    X=np.random.random((1000,32))\n",
    "    Y=np.random.random((1000,10))\n",
    "    \n",
    "    #generate some validation data\n",
    "    X_val=np.random.random((100,32))\n",
    "    Y_val=np.random.random((100,10))\n",
    "    \n",
    "    #generate test data\n",
    "    X_test=np.random.random((100,32))\n",
    "    Y_test=np.random.random((100,10))\n",
    "    \n",
    "    return (X,Y,X_val,Y_val,X_test,Y_test)"
   ]
  },
  {
   "cell_type": "code",
   "execution_count": 6,
   "metadata": {},
   "outputs": [],
   "source": [
    "(x_tr,y_tr,x_val,y_val,x_tst,y_tst)=create_data()\n",
    "tr_dataset=tf.data.Dataset.from_tensor_slices((x_tr,y_tr)).batch(32)\n",
    "vl_dataset=tf.data.Dataset.from_tensor_slices((x_val,y_val)).batch(32)\n",
    "tst_dataset=tf.data.Dataset.from_tensor_slices((x_tst,y_tst)).batch(32)\n"
   ]
  },
  {
   "cell_type": "code",
   "execution_count": 7,
   "metadata": {},
   "outputs": [],
   "source": [
    "model=build_model()"
   ]
  },
  {
   "cell_type": "code",
   "execution_count": 8,
   "metadata": {},
   "outputs": [
    {
     "name": "stdout",
     "output_type": "stream",
     "text": [
      "Model: \"sequential\"\n",
      "_________________________________________________________________\n",
      "Layer (type)                 Output Shape              Param #   \n",
      "=================================================================\n",
      "dense (Dense)                (None, 64)                2112      \n",
      "_________________________________________________________________\n",
      "dense_1 (Dense)              (None, 64)                4160      \n",
      "_________________________________________________________________\n",
      "dense_2 (Dense)              (None, 10)                650       \n",
      "=================================================================\n",
      "Total params: 6,922\n",
      "Trainable params: 6,922\n",
      "Non-trainable params: 0\n",
      "_________________________________________________________________\n"
     ]
    }
   ],
   "source": [
    "model.summary()"
   ]
  },
  {
   "cell_type": "code",
   "execution_count": 9,
   "metadata": {},
   "outputs": [
    {
     "name": "stdout",
     "output_type": "stream",
     "text": [
      "Train for 32 steps, validate for 4 steps\n",
      "Epoch 1/10\n",
      "32/32 [==============================] - 1s 25ms/step - loss: 0.2941 - accuracy: 0.0970 - val_loss: 0.1826 - val_accuracy: 0.1000\n",
      "Epoch 2/10\n",
      "32/32 [==============================] - 0s 2ms/step - loss: 0.1493 - accuracy: 0.0960 - val_loss: 0.1154 - val_accuracy: 0.0800\n",
      "Epoch 3/10\n",
      "32/32 [==============================] - 0s 2ms/step - loss: 0.1118 - accuracy: 0.0960 - val_loss: 0.0992 - val_accuracy: 0.1000\n",
      "Epoch 4/10\n",
      "32/32 [==============================] - 0s 3ms/step - loss: 0.1025 - accuracy: 0.0960 - val_loss: 0.0956 - val_accuracy: 0.1200\n",
      "Epoch 5/10\n",
      "32/32 [==============================] - 0s 2ms/step - loss: 0.0999 - accuracy: 0.1010 - val_loss: 0.0945 - val_accuracy: 0.1200\n",
      "Epoch 6/10\n",
      "32/32 [==============================] - 0s 2ms/step - loss: 0.0989 - accuracy: 0.0990 - val_loss: 0.0939 - val_accuracy: 0.1300\n",
      "Epoch 7/10\n",
      "32/32 [==============================] - 0s 2ms/step - loss: 0.0982 - accuracy: 0.1030 - val_loss: 0.0935 - val_accuracy: 0.1300\n",
      "Epoch 8/10\n",
      "32/32 [==============================] - 0s 2ms/step - loss: 0.0977 - accuracy: 0.1030 - val_loss: 0.0933 - val_accuracy: 0.1200\n",
      "Epoch 9/10\n",
      "32/32 [==============================] - 0s 3ms/step - loss: 0.0973 - accuracy: 0.1070 - val_loss: 0.0930 - val_accuracy: 0.1200\n",
      "Epoch 10/10\n",
      "32/32 [==============================] - 0s 2ms/step - loss: 0.0969 - accuracy: 0.1060 - val_loss: 0.0928 - val_accuracy: 0.1200\n"
     ]
    },
    {
     "data": {
      "text/plain": [
       "<tensorflow.python.keras.callbacks.History at 0x1dcd3e268d0>"
      ]
     },
     "execution_count": 9,
     "metadata": {},
     "output_type": "execute_result"
    }
   ],
   "source": [
    "model.fit(tr_dataset,epochs=10,validation_data=vl_dataset)"
   ]
  },
  {
   "cell_type": "code",
   "execution_count": 10,
   "metadata": {},
   "outputs": [
    {
     "name": "stdout",
     "output_type": "stream",
     "text": [
      "4/4 [==============================] - 0s 2ms/step - loss: 0.0958 - accuracy: 0.1000\n"
     ]
    },
    {
     "data": {
      "text/plain": [
       "[0.09583684988319874, 0.1]"
      ]
     },
     "execution_count": 10,
     "metadata": {},
     "output_type": "execute_result"
    }
   ],
   "source": [
    "#evaluate the model\n",
    "model.evaluate(tst_dataset)"
   ]
  },
  {
   "cell_type": "code",
   "execution_count": null,
   "metadata": {},
   "outputs": [],
   "source": []
  }
 ],
 "metadata": {
  "kernelspec": {
   "display_name": "py36gpu_",
   "language": "python",
   "name": "py36gpu_"
  },
  "language_info": {
   "codemirror_mode": {
    "name": "ipython",
    "version": 3
   },
   "file_extension": ".py",
   "mimetype": "text/x-python",
   "name": "python",
   "nbconvert_exporter": "python",
   "pygments_lexer": "ipython3",
   "version": "3.6.7"
  }
 },
 "nbformat": 4,
 "nbformat_minor": 2
}
